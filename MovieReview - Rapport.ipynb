{
 "cells": [
  {
   "cell_type": "markdown",
   "metadata": {},
   "source": [
    "# Introduction"
   ]
  },
  {
   "cell_type": "markdown",
   "metadata": {},
   "source": [
    "Ce projet est la réalisation du brief intitulé \"NLP pour l’analyse de critiques de films\" dans le cadre de la formation Simplon×Microsoft IA.\n",
    "\n",
    "L'objectif est de découvrir et de commencer à maîtriser les outils nécessaires à un Data Scientist spécialisé dans le traitement du langage naturel, ou NLP (Natural Language Processing) en anglais.\n",
    "\n",
    "Afin d'y arriver, ce projet s'attache à la prédiction de l'avis d'un utilisateur (positif ou négatif) à partir d'un commentaire de film déposé sur le site _allocine.fr_."
   ]
  },
  {
   "cell_type": "markdown",
   "metadata": {},
   "source": [
    "# Sommaire\n",
    "\n",
    "- [Description des données](#description-des-données)\n",
    "- [Présentation des différentes étapes du code](#présentation-des-différentes-étapes-du-code)\n",
    "    - [Web Scraping des données d’avis de spectacteurs](#web-scraping-des-données-davis-de-spectacteurs)\n",
    "    - [Préparation des données](#préparation-des-données)\n",
    "    - [Préparation des libellés](#préparation-des-libellés)\n",
    "    - [Finalisation de nos jeux de données](#finalisation-de-nos-jeux-de-données)\n",
    "    - [Entraînement du modèle](#entraînement-du-modèle)\n",
    "    - [Analyse des résultats](#analyse-des-résultats)\n",
    "- [Résultats](#résultats)\n",
    "- [Conclusion](#conclusion-avantages-et-inconvénients-recommandations)"
   ]
  },
  {
   "cell_type": "markdown",
   "metadata": {},
   "source": [
    "# Description des données"
   ]
  },
  {
   "cell_type": "markdown",
   "metadata": {},
   "source": [
    "Avant de pouvoir essayer de prédire un avis de critique de film à partir d'un commentaire, il faut tout d'abord récupérer des données permettant de réaliser cette prédiction.\n",
    "\n",
    "Les données retenues pour ce projet sont les commentaires des internautes et la note associée de 2 films, _Sonic 2 le film_ et _Inception_, déposés sur le site _allocine.fr_\n",
    "\n",
    "Le premier problème qui apparaît est la récupération de ces informations. En effet, celles-ci ne sont disponibles qu'à travers les pages web _allocine.fr_ de ces films.\n",
    "\n",
    "La solution choisie dans le cadre de ce projet est le [Web Scraping](https://fr.wikipedia.org/wiki/Web_scraping), c'est-à-dire l'extraction des données depuis une page HTML.\n",
    "\n",
    "Ce travail nous permet d'enregistrer la totalité des notes et des commentaires de chaque film dans différents fichiers ````csv```` compressés au format ```zip``` et que l'on peut retrouver dans le dossier ```movieReview_app/data```.\n",
    "\n",
    "Ainsi les données utilisées pourront être chargées sous forme de DataFrame à l'aide de la bibliothèque ```pandas``` puis traitées à l'aide de la bibliothèque ```numpy``` pour chaque film."
   ]
  },
  {
   "cell_type": "markdown",
   "metadata": {},
   "source": [
    "# Présentation des différentes étapes du code"
   ]
  },
  {
   "cell_type": "markdown",
   "metadata": {},
   "source": [
    "## Web Scraping des données d’avis de spectacteurs"
   ]
  },
  {
   "cell_type": "markdown",
   "metadata": {},
   "source": [
    "Cette étape est réalisée à l'aide de la bibliothèque ```webScraping``` qui implémente les fonctions suivantes :\n",
    "- ```get_html_doc``` : Crée un document html à partir de l'url d'une page donnée.\n",
    "- ```get_elements``` : Crée une liste d'éléments repérés par la balise et la classe de ceux-ci dans un document.\n",
    "- ```get_element``` : Retourne un élément depuis un document en fonction de sa classe et de son index parmi le nombre d'occurences.\n",
    "- ```get_title``` : Retourne le titre de la page du document html.\n",
    "- ```get_ratings``` : Crée une liste des notes à partir du document html.\n",
    "- ```get_comments``` : Crée une liste des commentaires à partir du document html.\n",
    "- ```get_page_max``` : Retourne le nombre de pages totales associées à un document html.\n",
    "- ```create_dataframe``` : Crée un dataframe à partir des listes des notes et des commentaires données en entrée.\n",
    "- ```browse_doc``` : Retourne le nom du film scrapé et le dataframe résultant du parcours de toutes les pages depuis une ressource.\n",
    "\n",
    "Lors de l'exécution de cette bibliothèque en tant que script, les ````DataFrame```` créés sont enregistrés en fichiers ```csv``` compressés au format ```zip``` et peuvent être chargés de la façon suivante :"
   ]
  },
  {
   "cell_type": "code",
   "execution_count": 3,
   "metadata": {},
   "outputs": [
    {
     "data": {
      "text/html": [
       "<div>\n",
       "<style scoped>\n",
       "    .dataframe tbody tr th:only-of-type {\n",
       "        vertical-align: middle;\n",
       "    }\n",
       "\n",
       "    .dataframe tbody tr th {\n",
       "        vertical-align: top;\n",
       "    }\n",
       "\n",
       "    .dataframe thead th {\n",
       "        text-align: right;\n",
       "    }\n",
       "</style>\n",
       "<table border=\"1\" class=\"dataframe\">\n",
       "  <thead>\n",
       "    <tr style=\"text-align: right;\">\n",
       "      <th></th>\n",
       "      <th>rating</th>\n",
       "      <th>comment</th>\n",
       "    </tr>\n",
       "  </thead>\n",
       "  <tbody>\n",
       "    <tr>\n",
       "      <th>0</th>\n",
       "      <td>5.0</td>\n",
       "      <td>Après le chef d'oeuvre super-héroïque The Dark...</td>\n",
       "    </tr>\n",
       "    <tr>\n",
       "      <th>1</th>\n",
       "      <td>5.0</td>\n",
       "      <td>C’est fou ce qu’on aime détester Christopher N...</td>\n",
       "    </tr>\n",
       "    <tr>\n",
       "      <th>2</th>\n",
       "      <td>5.0</td>\n",
       "      <td>CHEF D’ŒUVRE ! Le film est absolument parfait ...</td>\n",
       "    </tr>\n",
       "    <tr>\n",
       "      <th>3</th>\n",
       "      <td>5.0</td>\n",
       "      <td>Un film aussi novateur que complexe, dont la m...</td>\n",
       "    </tr>\n",
       "    <tr>\n",
       "      <th>4</th>\n",
       "      <td>3.5</td>\n",
       "      <td>Le meilleur blockbuster de 2010 a pour thème l...</td>\n",
       "    </tr>\n",
       "    <tr>\n",
       "      <th>5</th>\n",
       "      <td>5.0</td>\n",
       "      <td>Christopher Nolan est sûrement l'un des seuls ...</td>\n",
       "    </tr>\n",
       "    <tr>\n",
       "      <th>6</th>\n",
       "      <td>5.0</td>\n",
       "      <td>Nolan est un vrai génie. On l'avait déjà entra...</td>\n",
       "    </tr>\n",
       "    <tr>\n",
       "      <th>7</th>\n",
       "      <td>4.0</td>\n",
       "      <td>\" inception \" Un film de science fiction très ...</td>\n",
       "    </tr>\n",
       "    <tr>\n",
       "      <th>8</th>\n",
       "      <td>5.0</td>\n",
       "      <td>Un film époustouflant(un de mes préférés) ! Le...</td>\n",
       "    </tr>\n",
       "    <tr>\n",
       "      <th>9</th>\n",
       "      <td>5.0</td>\n",
       "      <td>Un Pur Chef D’œuvre. Après Le Prestige &amp; la sa...</td>\n",
       "    </tr>\n",
       "  </tbody>\n",
       "</table>\n",
       "</div>"
      ],
      "text/plain": [
       "   rating                                            comment\n",
       "0     5.0  Après le chef d'oeuvre super-héroïque The Dark...\n",
       "1     5.0  C’est fou ce qu’on aime détester Christopher N...\n",
       "2     5.0  CHEF D’ŒUVRE ! Le film est absolument parfait ...\n",
       "3     5.0  Un film aussi novateur que complexe, dont la m...\n",
       "4     3.5  Le meilleur blockbuster de 2010 a pour thème l...\n",
       "5     5.0  Christopher Nolan est sûrement l'un des seuls ...\n",
       "6     5.0  Nolan est un vrai génie. On l'avait déjà entra...\n",
       "7     4.0  \" inception \" Un film de science fiction très ...\n",
       "8     5.0  Un film époustouflant(un de mes préférés) ! Le...\n",
       "9     5.0  Un Pur Chef D’œuvre. Après Le Prestige & la sa..."
      ]
     },
     "execution_count": 3,
     "metadata": {},
     "output_type": "execute_result"
    }
   ],
   "source": [
    "import pandas as pd\n",
    "APP_PATH = \"movieReview_app\"\n",
    "\n",
    "movie = \"Inception\"\n",
    "# movie = \"Sonic 2 le film\"\n",
    "\n",
    "data1 = pd.read_csv(f\"{APP_PATH}/data/{movie}.zip\")\n",
    "\n",
    "data1.head(10)"
   ]
  },
  {
   "cell_type": "markdown",
   "metadata": {},
   "source": [
    "## Préparation des données"
   ]
  },
  {
   "cell_type": "markdown",
   "metadata": {},
   "source": [
    "## Préparation des libellés"
   ]
  },
  {
   "cell_type": "markdown",
   "metadata": {},
   "source": [
    "## Finalisation de nos jeux de données"
   ]
  },
  {
   "cell_type": "markdown",
   "metadata": {},
   "source": [
    "## Entraînement du modèle"
   ]
  },
  {
   "cell_type": "markdown",
   "metadata": {},
   "source": [
    "## Analyse des résultats"
   ]
  },
  {
   "cell_type": "markdown",
   "metadata": {},
   "source": [
    "# Résultats"
   ]
  },
  {
   "cell_type": "markdown",
   "metadata": {},
   "source": [
    "\n",
    "# Conclusion (avantages et inconvénients, recommandations…)"
   ]
  }
 ],
 "metadata": {
  "interpreter": {
   "hash": "229aa68650e61b7cd472341a8c2fd1eb39cb66429ccfe16d46cae12b7762c980"
  },
  "kernelspec": {
   "display_name": "Python 3.9.7 ('TP_env')",
   "language": "python",
   "name": "python3"
  },
  "language_info": {
   "codemirror_mode": {
    "name": "ipython",
    "version": 3
   },
   "file_extension": ".py",
   "mimetype": "text/x-python",
   "name": "python",
   "nbconvert_exporter": "python",
   "pygments_lexer": "ipython3",
   "version": "3.9.7"
  },
  "orig_nbformat": 4
 },
 "nbformat": 4,
 "nbformat_minor": 2
}
