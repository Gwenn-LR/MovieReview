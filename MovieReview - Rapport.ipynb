{
 "cells": [
  {
   "cell_type": "markdown",
   "metadata": {},
   "source": [
    "# Introduction"
   ]
  },
  {
   "cell_type": "markdown",
   "metadata": {},
   "source": [
    "Ce projet est la réalisation du brief intitulé \"NLP pour l’analyse de critiques de films\" dans le cadre de la formation Simplon×Microsoft IA.\n",
    "\n",
    "L'objectif est de découvrir et de commencer à maîtriser les outils nécessaires à un Data Scientist spécialisé dans le traitement du langage naturel, ou NLP (Natural Language Processing) en anglais.\n",
    "\n",
    "Afin d'y arriver, ce projet s'attache à la prédiction de l'avis d'un utilisateur (positif ou négatif) à partir d'un commentaire de film déposé sur le site _allocine.fr_."
   ]
  },
  {
   "cell_type": "markdown",
   "metadata": {},
   "source": [
    "# Sommaire\n",
    "\n",
    "- [Description des données](#description-des-données)\n",
    "- [Présentation des différentes étapes du code](#présentation-des-différentes-étapes-du-code)\n",
    "    - [Web Scraping des données d’avis de spectacteurs](#web-scraping-des-données-davis-de-spectacteurs)\n",
    "    - [Préparation des données](#préparation-des-données)\n",
    "    - [Préparation des libellés](#préparation-des-libellés)\n",
    "    - [Finalisation de nos jeux de données](#finalisation-de-nos-jeux-de-données)\n",
    "    - [Entraînement du modèle](#entraînement-du-modèle)\n",
    "    - [Analyse des résultats](#analyse-des-résultats)\n",
    "- [Résultats](#résultats)\n",
    "- [Conclusion](#conclusion-avantages-et-inconvénients-recommandations)"
   ]
  },
  {
   "cell_type": "markdown",
   "metadata": {},
   "source": [
    "# Description des données"
   ]
  },
  {
   "cell_type": "markdown",
   "metadata": {},
   "source": [
    "# Présentation des différentes étapes du code"
   ]
  },
  {
   "cell_type": "markdown",
   "metadata": {},
   "source": [
    "## Web Scraping des données d’avis de spectacteurs"
   ]
  },
  {
   "cell_type": "markdown",
   "metadata": {},
   "source": [
    "## Préparation des données"
   ]
  },
  {
   "cell_type": "markdown",
   "metadata": {},
   "source": [
    "## Préparation des libellés"
   ]
  },
  {
   "cell_type": "markdown",
   "metadata": {},
   "source": [
    "## Finalisation de nos jeux de données"
   ]
  },
  {
   "cell_type": "markdown",
   "metadata": {},
   "source": [
    "## Entraînement du modèle"
   ]
  },
  {
   "cell_type": "markdown",
   "metadata": {},
   "source": [
    "## Analyse des résultats"
   ]
  },
  {
   "cell_type": "markdown",
   "metadata": {},
   "source": [
    "# Résultats"
   ]
  },
  {
   "cell_type": "markdown",
   "metadata": {},
   "source": [
    "\n",
    "# Conclusion (avantages et inconvénients, recommandations…)"
   ]
  }
 ],
 "metadata": {
  "interpreter": {
   "hash": "229aa68650e61b7cd472341a8c2fd1eb39cb66429ccfe16d46cae12b7762c980"
  },
  "kernelspec": {
   "display_name": "Python 3.9.7 ('TP_env')",
   "language": "python",
   "name": "python3"
  },
  "language_info": {
   "codemirror_mode": {
    "name": "ipython",
    "version": 3
   },
   "file_extension": ".py",
   "mimetype": "text/x-python",
   "name": "python",
   "nbconvert_exporter": "python",
   "pygments_lexer": "ipython3",
   "version": "3.9.7"
  },
  "orig_nbformat": 4
 },
 "nbformat": 4,
 "nbformat_minor": 2
}
