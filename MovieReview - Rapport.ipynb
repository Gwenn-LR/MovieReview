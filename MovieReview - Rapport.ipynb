{
 "cells": [
  {
   "cell_type": "markdown",
   "metadata": {},
   "source": [
    "# Introduction"
   ]
  },
  {
   "cell_type": "markdown",
   "metadata": {},
   "source": [
    "Ce projet est la réalisation du brief intitulé \"NLP pour l’analyse de critiques de films\" dans le cadre de la formation Simplon×Microsoft IA.\n",
    "\n",
    "L'objectif est de découvrir et de commencer à maîtriser les outils nécessaires à un Data Scientist spécialisé dans le traitement du langage naturel, ou NLP (Natural Language Processing) en anglais.\n",
    "\n",
    "Afin d'y arriver, ce projet s'attache à la prédiction de l'avis d'un utilisateur (positif ou négatif) à partir d'un commentaire de film déposé sur le site _allocine.fr_."
   ]
  },
  {
   "cell_type": "markdown",
   "metadata": {},
   "source": [
    "# Sommaire\n",
    "\n",
    "- [Description des données](#description-des-données)\n",
    "- [Présentation des différentes étapes du code](#présentation-des-différentes-étapes-du-code)\n",
    "    - [Web Scraping des données d’avis de spectacteurs](#web-scraping-des-données-davis-de-spectacteurs)\n",
    "    - [Préparation des données](#préparation-des-données)\n",
    "    - [Préparation des libellés](#préparation-des-libellés)\n",
    "    - [Finalisation de nos jeux de données](#finalisation-de-nos-jeux-de-données)\n",
    "    - [Entraînement du modèle](#entraînement-du-modèle)\n",
    "    - [Analyse des résultats](#analyse-des-résultats)\n",
    "- [Résultats](#résultats)\n",
    "- [Conclusion](#conclusion-avantages-et-inconvénients-recommandations)"
   ]
  },
  {
   "cell_type": "markdown",
   "metadata": {},
   "source": [
    "# Description des données"
   ]
  },
  {
   "cell_type": "markdown",
   "metadata": {},
   "source": [
    "Avant de pouvoir essayer de prédire un avis de critique de film à partir d'un commentaire, il faut tout d'abord récupérer des données permettant de réaliser cette prédiction.\n",
    "\n",
    "Les données retenues pour ce projet sont les commentaires des internautes et la note associée de 2 films, _Sonic 2 le film_ et _Inception_, déposés sur le site _allocine.fr_\n",
    "\n",
    "Le premier problème qui apparaît est la récupération de ces informations. En effet, celles-ci ne sont disponibles qu'à travers les pages web _allocine.fr_ de ces films.\n",
    "\n",
    "La solution choisie dans le cadre de ce projet est le [Web Scraping](https://fr.wikipedia.org/wiki/Web_scraping), c'est-à-dire l'extraction des données depuis une page HTML.\n",
    "\n",
    "Ce travail nous permet d'enregistrer la totalité des notes et des commentaires de chaque film dans différents fichiers ````csv```` compressés au format ```zip``` et que l'on peut retrouver dans le dossier ```movieReview_app/data```.\n",
    "\n",
    "Ainsi les données utilisées pourront être chargées sous forme de DataFrame à l'aide de la bibliothèque ```pandas``` puis traitées à l'aide de la bibliothèque ```numpy``` pour chaque film."
   ]
  },
  {
   "cell_type": "markdown",
   "metadata": {},
   "source": [
    "# Présentation des différentes étapes du code"
   ]
  },
  {
   "cell_type": "markdown",
   "metadata": {},
   "source": [
    "## Web Scraping des données d’avis de spectacteurs"
   ]
  },
  {
   "cell_type": "markdown",
   "metadata": {},
   "source": [
    "Cette étape est réalisée à l'aide de la bibliothèque ```webScraping``` qui implémente les fonctions suivantes :\n",
    "- ```get_html_doc``` : Crée un document html à partir de l'url d'une page donnée.\n",
    "- ```get_elements``` : Crée une liste d'éléments repérés par la balise et la classe de ceux-ci dans un document.\n",
    "- ```get_element``` : Retourne un élément depuis un document en fonction de sa classe et de son index parmi le nombre d'occurences.\n",
    "- ```get_title``` : Retourne le titre de la page du document html.\n",
    "- ```get_ratings``` : Crée une liste des notes à partir du document html.\n",
    "- ```get_comments``` : Crée une liste des commentaires à partir du document html.\n",
    "- ```get_page_max``` : Retourne le nombre de pages totales associées à un document html.\n",
    "- ```create_dataframe``` : Crée un dataframe à partir des listes des notes et des commentaires données en entrée.\n",
    "- ```browse_doc``` : Retourne le nom du film scrapé et le dataframe résultant du parcours de toutes les pages depuis une ressource.\n",
    "\n",
    "Lors de l'exécution de cette bibliothèque en tant que script, les ````DataFrame```` créés sont enregistrés en fichiers ```csv``` compressés au format ```zip``` et peuvent être chargés de la façon suivante :"
   ]
  },
  {
   "cell_type": "code",
   "execution_count": 5,
   "metadata": {},
   "outputs": [
    {
     "name": "stdout",
     "output_type": "stream",
     "text": [
      "Chargement des données csv.\n",
      "Données chargées !\n",
      "---------------------------------\n",
      "Informations concernant le dataset :\n",
      "\n",
      "<class 'pandas.core.frame.DataFrame'>\n",
      "Int64Index: 7252 entries, 0 to 7152\n",
      "Data columns (total 2 columns):\n",
      " #   Column   Non-Null Count  Dtype  \n",
      "---  ------   --------------  -----  \n",
      " 0   rating   7252 non-null   float64\n",
      " 1   comment  7251 non-null   object \n",
      "dtypes: float64(1), object(1)\n",
      "memory usage: 170.0+ KB\n",
      "None\n",
      "---------------------------------\n",
      "Extrait du dataset :\n",
      "   rating                                            comment\n",
      "0     4.0  une bonne suite pour les aventures de sonic au...\n",
      "1     5.0  Cette suite de sonic est incroyable !Le fan qu...\n",
      "2     3.0  Malgré deux nouveaux personnages de l'univers ...\n",
      "3     4.0  Super film de ouf, le fait que Knuckles soit d...\n",
      "4     4.0  Très bon film ont retrouve ce qui fait l’espri...\n",
      "---------------------------------\n"
     ]
    }
   ],
   "source": [
    "# Importation des bibliothèques\n",
    "import pandas as pd\n",
    "\n",
    "# Affectation des noms de film étudiés\n",
    "movies_to_scrap = [\"Sonic 2 le film\", \"Inception\"]\n",
    "\n",
    "# Chargement des données\n",
    "print(\"Chargement des données csv.\")\n",
    "data = pd.DataFrame()\n",
    "data = pd.concat(\n",
    "    [pd.read_csv(f\"movieReview_app/data/{movie}.zip\") for movie in movies_to_scrap]\n",
    "    )\n",
    "print(\"Données chargées !\")\n",
    "print(\"---------------------------------\")\n",
    "\n",
    "# Affichage des informations du dataset\n",
    "print(\"Informations concernant le dataset :\\n\")\n",
    "print(data.info())\n",
    "print(\"---------------------------------\")\n",
    "print(\"Extrait du dataset :\")\n",
    "print(data.head())\n",
    "print(\"---------------------------------\")"
   ]
  },
  {
   "cell_type": "markdown",
   "metadata": {},
   "source": [
    "Afin d'obtenir de bonnes données, il a fallu revenir plusieurs fois sur cette étape afin de raffiner le scraping des commentaires, notamment concernant :\n",
    "- les balises dans les commentaires, qui sont supprimées lors de l'appel de ```element.text_content``` mais qui ne sont remplacées par aucun caractère ; il a donc été décidé de rajouter un ```\\n``` à ces balises.\n",
    "\n",
    "Ces opération sont lourdes en terme de temps d'exécution et pourraient être réalisées lors d'un prétraitement de la page ou un post traitement des données afin d'éviter ces soucis.\n",
    "\n",
    "Cependant, cela n'est pas l'objectif de ce projet et l'enregistrement des données scrapées permet de ne pas avoir à réexécuter ce script trop souvent."
   ]
  },
  {
   "cell_type": "markdown",
   "metadata": {},
   "source": [
    "## Préparation des données"
   ]
  },
  {
   "cell_type": "markdown",
   "metadata": {},
   "source": [
    "## Préparation des libellés"
   ]
  },
  {
   "cell_type": "markdown",
   "metadata": {},
   "source": [
    "## Finalisation de nos jeux de données"
   ]
  },
  {
   "cell_type": "markdown",
   "metadata": {},
   "source": [
    "## Entraînement du modèle"
   ]
  },
  {
   "cell_type": "markdown",
   "metadata": {},
   "source": [
    "## Analyse des résultats"
   ]
  },
  {
   "cell_type": "markdown",
   "metadata": {},
   "source": [
    "# Résultats"
   ]
  },
  {
   "cell_type": "markdown",
   "metadata": {},
   "source": [
    "\n",
    "# Conclusion (avantages et inconvénients, recommandations…)"
   ]
  }
 ],
 "metadata": {
  "interpreter": {
   "hash": "229aa68650e61b7cd472341a8c2fd1eb39cb66429ccfe16d46cae12b7762c980"
  },
  "kernelspec": {
   "display_name": "Python 3 (ipykernel)",
   "language": "python",
   "name": "python3"
  },
  "language_info": {
   "codemirror_mode": {
    "name": "ipython",
    "version": 3
   },
   "file_extension": ".py",
   "mimetype": "text/x-python",
   "name": "python",
   "nbconvert_exporter": "python",
   "pygments_lexer": "ipython3",
   "version": "3.9.11"
  }
 },
 "nbformat": 4,
 "nbformat_minor": 2
}
